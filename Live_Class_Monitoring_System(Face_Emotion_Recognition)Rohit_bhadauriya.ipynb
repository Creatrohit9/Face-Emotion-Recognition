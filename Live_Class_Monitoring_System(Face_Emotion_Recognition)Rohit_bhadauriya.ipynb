{
  "nbformat": 4,
  "nbformat_minor": 0,
  "metadata": {
    "colab": {
      "name": "Live Class Monitoring System(Face Emotion Recognition)Rohit bhadauriya.ipynb",
      "provenance": [],
      "authorship_tag": "ABX9TyM3oIPiR/zG7AkiFPVbr7yH",
      "include_colab_link": true
    },
    "kernelspec": {
      "name": "python3",
      "display_name": "Python 3"
    },
    "language_info": {
      "name": "python"
    }
  },
  "cells": [
    {
      "cell_type": "markdown",
      "metadata": {
        "id": "view-in-github",
        "colab_type": "text"
      },
      "source": [
        "<a href=\"https://colab.research.google.com/github/Creatrohit9/Face-Emotion-Recognition/blob/main/Live_Class_Monitoring_System(Face_Emotion_Recognition)Rohit_bhadauriya.ipynb\" target=\"_parent\"><img src=\"https://colab.research.google.com/assets/colab-badge.svg\" alt=\"Open In Colab\"/></a>"
      ]
    },
    {
      "cell_type": "markdown",
      "metadata": {
        "id": "rQiLYtTOGivr"
      },
      "source": [
        "# **Project Name** \n",
        "\n",
        " **Live Class Monitoring System(Face Emotion Recognition)**"
      ]
    },
    {
      "cell_type": "markdown",
      "metadata": {
        "id": "k6INDTocGqhl"
      },
      "source": [
        "# **Project Indroduction**"
      ]
    },
    {
      "cell_type": "markdown",
      "metadata": {
        "id": "W26lL4fAGrwI"
      },
      "source": [
        "The Indian education landscape has been undergoing rapid changes for the past 10 years owing to\n",
        "the advancement of web-based learning services, specifically, eLearning platforms.\n",
        "\n",
        "Global E-learning is estimated to witness an 8X over the next 5 years to reach USD 2B in 2021. \n",
        "India\n",
        "is expected to grow with a CAGR of 44% crossing the 10M users mark in 2021. Although the market\n",
        "is growing on a rapid scale, there are major challenges associated with digital learning when\n",
        "compared with brick and mortar classrooms.\n",
        "\n",
        " One of many challenges is how to ensure quality\n",
        "learning for students. Digital platforms might overpower physical classrooms in terms of content\n",
        "quality but when it comes to understanding whether students are able to grasp the content in a live\n",
        "class scenario is yet an open-end challenge.\n",
        "\n",
        "In a physical classroom during a lecturing teacher can see the faces and assess the emotion of the\n",
        "class and tune their lecture accordingly, whether he is going fast or slow. He can identify students who\n",
        "need special attention. \n",
        "\n",
        "Digital classrooms are conducted via video telephony software program (exZoom) where it’s not possible for medium scale class (25-50) to see all students and access the\n",
        "mood. Because of this drawback, students are not focusing on content due to lack of surveillance.\n",
        "\n",
        "While digital platforms have limitations in terms of physical surveillance but it comes with the power of\n",
        "data and machines which can work for you. It provides data in the form of video, audio, and texts\n",
        "which can be analysed using deep learning algorithms.\n",
        "\n",
        " Deep learning backed system not only solves\n",
        "the surveillance issue, but it also removes the human bias from the system, and all information is no\n",
        "longer in the teacher’s brain rather translated in numbers that can be analysed and tracked."
      ]
    },
    {
      "cell_type": "markdown",
      "metadata": {
        "id": "0bIjM9UWGysg"
      },
      "source": [
        "# **Problem Statement**"
      ]
    },
    {
      "cell_type": "markdown",
      "metadata": {
        "id": "r9oIWThTG6Em"
      },
      "source": [
        "We will solve the above-mentioned challenge by applying deep learning algorithms to live video data.\n",
        "\n",
        "The solution to this problem is by recognizing facial emotions."
      ]
    },
    {
      "cell_type": "markdown",
      "metadata": {
        "id": "iPOVA_nyG-CG"
      },
      "source": [
        "# **What is Face Emotion Recognition ?**"
      ]
    },
    {
      "cell_type": "markdown",
      "metadata": {
        "id": "vWlRG8DHHCWe"
      },
      "source": [
        "This is a few shot learning live face emotion detection system. The model should be able to real-time\n",
        "identify the emotions of students in a live class."
      ]
    },
    {
      "cell_type": "markdown",
      "metadata": {
        "id": "41dEFZ68HHCL"
      },
      "source": [
        "# **Importing Libraries**"
      ]
    },
    {
      "cell_type": "code",
      "metadata": {
        "id": "G5myHQyVHOLj"
      },
      "source": [
        "import pandas as pd\n",
        "import numpy as np\n",
        "import matplotlib.pyplot as plt\n",
        "%matplotlib inline\n",
        "import seaborn as sns\n",
        "\n",
        "import tensorflow as tf\n",
        "import cv2\n",
        "import os"
      ],
      "execution_count": 1,
      "outputs": []
    },
    {
      "cell_type": "code",
      "metadata": {
        "id": "1psAgWo7HXJN"
      },
      "source": [
        "import sys, os\n",
        "import pandas as pd\n",
        "import numpy as np\n",
        "import cv2\n",
        "from sklearn.model_selection import train_test_split\n",
        "from keras.models import Sequential\n",
        "from keras.layers import Dense, Dropout, Activation, Flatten\n",
        "from keras.layers import Conv2D, MaxPooling2D, BatchNormalization\n",
        "from keras.losses import categorical_crossentropy\n",
        "# from keras.optimizers import Adam\n",
        "from keras.regularizers import l2\n",
        "from keras.callbacks import ReduceLROnPlateau, TensorBoard, EarlyStopping, ModelCheckpoint\n",
        "from keras.models import load_model"
      ],
      "execution_count": 4,
      "outputs": []
    },
    {
      "cell_type": "markdown",
      "metadata": {
        "id": "EH52nb3XGleF"
      },
      "source": [
        ""
      ]
    }
  ]
}